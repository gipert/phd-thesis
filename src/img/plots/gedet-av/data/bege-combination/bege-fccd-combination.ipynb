{
 "cells": [
  {
   "cell_type": "markdown",
   "metadata": {},
   "source": [
    "# Am-241 and Ba-133 FCCD combination"
   ]
  },
  {
   "cell_type": "code",
   "execution_count": 1,
   "metadata": {},
   "outputs": [
    {
     "name": "stdout",
     "output_type": "stream",
     "text": [
      "*** data loaded"
     ]
    }
   ],
   "source": [
    "using JSON\n",
    "\n",
    "# read parameters from json files\n",
    "open(\"parameters.json\") do f\n",
    "    global j_dl = JSON.parse(f)\n",
    "end\n",
    "open(\"geometry.json\") do f\n",
    "    global j_geo = JSON.parse(f)\n",
    "end\n",
    "\n",
    "det_matrix = Dict(j_geo[\"gerdageometry\"][string(i)][\"name\"] => string(i) for i ∈ 42:71)\n",
    "detectors = collect(j_geo[\"gerdageometry\"][string(i)][\"name\"] for i ∈ 42:71)\n",
    "filter!(!s->occursin(r\"GD02D\", s),detectors)\n",
    "print(\"*** data loaded\")"
   ]
  },
  {
   "cell_type": "code",
   "execution_count": 2,
   "metadata": {},
   "outputs": [
    {
     "name": "stdout",
     "output_type": "stream",
     "text": [
      "*** getter functions defined"
     ]
    }
   ],
   "source": [
    "# get dl growth\n",
    "function dl_growth(det)\n",
    "    j_dl[det][\"time-at-room-temperature-yr\"]\n",
    "end\n",
    "# get dl value\n",
    "function DL_all(det, method)\n",
    "    try\n",
    "        j_dl[det][string(method,\"-fccd\")]\n",
    "    catch\n",
    "        print(\"DL value not found for detector: \", det)  \n",
    "    end\n",
    "end\n",
    "function DL(det, method)\n",
    "    DL_all(det, method)[\"central\"]\n",
    "end\n",
    "function DL_sigma(det, method)\n",
    "    dla = DL_all(det, method)\n",
    "    error  = dla[\"corrPos\"] + dla[\"uncorrPos\"]\n",
    "    error += dla[\"corrNeg\"] + dla[\"uncorrNeg\"]\n",
    "    return error/2\n",
    "end\n",
    "# retrieve detector geometry\n",
    "function height(det)\n",
    "    j_geo[\"gerdageometry\"][det_matrix[det]][\"height-mm\"]\n",
    "end\n",
    "function radius(det)\n",
    "    j_geo[\"gerdageometry\"][det_matrix[det]][\"radius-mm\"]\n",
    "end\n",
    "function corner_height(det)\n",
    "    j_geo[\"gerdageometry\"][det_matrix[det]][\"corner\"][\"height-mm\"]\n",
    "end\n",
    "function corner_radius(det)\n",
    "    j_geo[\"gerdageometry\"][det_matrix[det]][\"corner\"][\"radius-mm\"]\n",
    "end\n",
    "function groove_depth(det)\n",
    "    j_geo[\"gerdageometry\"][det_matrix[det]][\"groove\"][\"depth-mm\"]\n",
    "end\n",
    "function groove_inner_radius(det)\n",
    "    j_geo[\"gerdageometry\"][det_matrix[det]][\"groove\"][\"inner-radius-mm\"]\n",
    "end\n",
    "function groove_outer_radius(det)\n",
    "    j_geo[\"gerdageometry\"][det_matrix[det]][\"groove\"][\"outer-radius-mm\"]\n",
    "end\n",
    "function has_taper(det)\n",
    "    haskey(j_geo[\"gerdageometry\"][det_matrix[det]], \"corner\")\n",
    "end\n",
    "print(\"*** getter functions defined\")"
   ]
  },
  {
   "cell_type": "code",
   "execution_count": 3,
   "metadata": {},
   "outputs": [
    {
     "name": "stdout",
     "output_type": "stream",
     "text": [
      "*** total volume functions defined"
     ]
    }
   ],
   "source": [
    "# cylinder volume\n",
    "function cylinder_volume(h, r)\n",
    "    return π * h * r*r\n",
    "end\n",
    "# truncated cone volume\n",
    "function cut_cone_volume(h, r, R)\n",
    "    return 1/3 * π * h * (r*r + r*R + R*R)\n",
    "end\n",
    "# groove volume\n",
    "function groove_volume(d, r, R)\n",
    "    return π * d * (R*R - r*r)\n",
    "end\n",
    "function groove_volume(det)\n",
    "    d = groove_depth(det)\n",
    "    r = groove_inner_radius(det)\n",
    "    R = groove_outer_radius(det)\n",
    "    groove_volume(d,r,R)\n",
    "end\n",
    "# volume of conical detector\n",
    "function volume_taper(h, r, ch, cr)\n",
    "    vol = cut_cone_volume(ch, cr, r)\n",
    "    vol += cylinder_volume(h-ch, r)\n",
    "    return vol\n",
    "end\n",
    "function volume_taper(det)\n",
    "    h = height(det)\n",
    "    r = radius(det)\n",
    "    ch = corner_height(det)\n",
    "    cr = corner_radius(det)\n",
    "    vol = volume_taper(h, r, ch, cr)\n",
    "    vol -= groove_volume(det)\n",
    "    return vol\n",
    "end\n",
    "# volume normal detector\n",
    "function volume_notaper(det)\n",
    "    h = height(det)\n",
    "    r = radius(det)\n",
    "    vol = cylinder_volume(h, r)\n",
    "    vol -= groove_volume(det)\n",
    "    return vol\n",
    "end\n",
    "# calculate volume of detector in cm3\n",
    "function volume(det)\n",
    "    return has_taper(det) ? 0.001*volume_taper(det) : 0.001*volume_notaper(det)\n",
    "end\n",
    "print(\"*** total volume functions defined\")"
   ]
  },
  {
   "cell_type": "code",
   "execution_count": 4,
   "metadata": {},
   "outputs": [
    {
     "name": "stdout",
     "output_type": "stream",
     "text": [
      "*** active volume functions defined\n"
     ]
    }
   ],
   "source": [
    "# active volume functions tapered\n",
    "function corner_radius_shift(det)\n",
    "    tth = (radius(det) - corner_radius(det)) / corner_height(det)\n",
    "    th = atan(tth)\n",
    "    return tth*(1/sin(th) - 1)\n",
    "end\n",
    "function corner_height_shift(det)\n",
    "    tth = corner_height(det) / (radius(det) - corner_radius(det));\n",
    "    th = atan(tth);\n",
    "    return  tth*(1/sin(th) - 1);\n",
    "end\n",
    "function active_volume_taper(det, DL)\n",
    "    h = height(det)-2*DL\n",
    "    r = radius(det)-DL\n",
    "    ch = corner_height(det) + corner_height_shift(det)*DL\n",
    "    cr = corner_radius(det) - corner_radius_shift(det)*DL\n",
    "    vol = volume_taper(h, r, ch, cr)\n",
    "    vol += cylinder_volume(DL, groove_outer_radius(det))\n",
    "    vol -= groove_volume(det)\n",
    "    return vol\n",
    "end\n",
    "# active volume of normal detector\n",
    "function active_volume_notaper(det, DL)\n",
    "    h = height(det)-2*DL\n",
    "    r = radius(det)-DL\n",
    "    vol = cylinder_volume(h, r)\n",
    "    vol += cylinder_volume(DL, groove_outer_radius(det))\n",
    "    vol -= groove_volume(det)\n",
    "    return vol\n",
    "end\n",
    "function active_volume(det, DL)\n",
    "    return has_taper(det) ? 0.001*active_volume_taper(det, DL) : 0.001*active_volume_notaper(det, DL)\n",
    "end\n",
    "function active_volume_am(det)\n",
    "    active_volume(det, DL(det,\"am\")[\"central\"])\n",
    "end\n",
    "function active_volume_ba(det)\n",
    "    active_volume(det, DL(det, \"ba\")[\"central\"])\n",
    "end\n",
    "print(\"*** active volume functions defined\\n\")"
   ]
  },
  {
   "cell_type": "code",
   "execution_count": 5,
   "metadata": {},
   "outputs": [
    {
     "name": "stdout",
     "output_type": "stream",
     "text": [
      "*** DLs calculated"
     ]
    }
   ],
   "source": [
    "using Formatting\n",
    "function combined_DL(det)\n",
    "    dl_c = 0\n",
    "    w = 0\n",
    "    uc_pos = 0\n",
    "    uc_neg = 0\n",
    "    for m ∈ [\"am\",\"ba\"]\n",
    "        dla = DL_all(det, m)\n",
    "        s_i = DL_sigma(det, m)\n",
    "        w_i = 1/(s_i*s_i)\n",
    "        dl_c += w_i * dla[\"central\"]\n",
    "        w += w_i\n",
    "        uc_pos += dla[\"uncorrPos\"]*dla[\"uncorrPos\"]\n",
    "        uc_neg += dla[\"uncorrNeg\"]*dla[\"uncorrNeg\"]\n",
    "    end\n",
    "    uc_pos = sqrt(uc_pos)\n",
    "    uc_neg = sqrt(uc_neg)\n",
    "    dl_c /= w\n",
    "    return Dict(\"DL\"       => dl_c,\n",
    "                \"ucorrPos\" => uc_pos,\n",
    "                \"ucorrNeg\" => uc_neg,\n",
    "                \"corrPos\"  => DL_all(det, \"am\")[\"corrPos\"],\n",
    "                \"corrNeg\"  => DL_all(det, \"ba\")[\"corrNeg\"])\n",
    "end\n",
    "\n",
    "DL_collection = Dict(d => combined_DL(d) for d in detectors)\n",
    "print(\"*** DLs calculated\")"
   ]
  },
  {
   "cell_type": "code",
   "execution_count": 6,
   "metadata": {},
   "outputs": [
    {
     "name": "stdout",
     "output_type": "stream",
     "text": [
      "0.57 +0.03-0.06(corr) +0.02-0.02(uncorr)\n",
      "0.80 +0.03-0.06(corr) +0.02-0.02(uncorr)\n",
      "0.71 +0.03-0.06(corr) +0.02-0.02(uncorr)\n",
      "0.52 +0.03-0.06(corr) +0.03-0.03(uncorr)\n",
      "0.61 +0.03-0.04(corr) +0.01-0.01(uncorr)\n",
      "0.55 +0.03-0.06(corr) +0.06-0.05(uncorr)\n",
      "0.55 +0.03-0.06(corr) +0.02-0.02(uncorr)\n",
      "0.71 +0.04-0.05(corr) +0.05-0.04(uncorr)\n",
      "0.72 +0.03-0.06(corr) +0.04-0.04(uncorr)\n",
      "0.69 +0.03-0.07(corr) +0.04-0.04(uncorr)\n",
      "0.86 +0.03-0.07(corr) +0.04-0.03(uncorr)\n",
      "0.86 +0.03-0.06(corr) +0.03-0.03(uncorr)\n",
      "0.72 +0.03-0.06(corr) +0.03-0.03(uncorr)\n",
      "0.84 +0.03-0.06(corr) +0.03-0.03(uncorr)\n",
      "0.68 +0.03-0.05(corr) +0.04-0.03(uncorr)\n",
      "0.81 +0.03-0.06(corr) +0.02-0.02(uncorr)\n",
      "0.69 +0.03-0.07(corr) +0.03-0.03(uncorr)\n",
      "0.76 +0.03-0.07(corr) +0.03-0.02(uncorr)\n",
      "0.70 +0.03-0.05(corr) +0.04-0.03(uncorr)\n",
      "0.67 +0.03-0.06(corr) +0.03-0.03(uncorr)\n",
      "0.67 +0.03-0.06(corr) +0.04-0.04(uncorr)\n",
      "0.68 +0.03-0.06(corr) +0.04-0.04(uncorr)\n",
      "0.63 +0.03-0.05(corr) +0.04-0.03(uncorr)\n",
      "0.76 +0.03-0.06(corr) +0.04-0.04(uncorr)\n",
      "0.70 +0.03-0.06(corr) +0.02-0.02(uncorr)\n",
      "0.74 +0.03-0.06(corr) +0.02-0.02(uncorr)\n",
      "0.64 +0.03-0.05(corr) +0.03-0.03(uncorr)\n",
      "0.70 +0.03-0.06(corr) +0.04-0.04(uncorr)\n",
      "0.75 +0.03-0.06(corr) +0.04-0.04(uncorr)\n"
     ]
    }
   ],
   "source": [
    "for d ∈ detectors\n",
    "    DLs = DL_collection[d]\n",
    "    printfmt(\"{1:.2f} +{2:.2f}-{3:.2f}(corr)\",DLs[\"DL\"],DLs[\"corrPos\"],DLs[\"corrNeg\"])\n",
    "    printfmt(\" +{1:.2f}-{2:.2f}(uncorr)\\n\",DLs[\"ucorrPos\"],DLs[\"ucorrNeg\"])\n",
    "end"
   ]
  },
  {
   "cell_type": "code",
   "execution_count": 7,
   "metadata": {},
   "outputs": [
    {
     "name": "stdout",
     "output_type": "stream",
     "text": [
      "GD32A , 0.17 , 0.17\n",
      "GD32B , 0.13 , 0.13\n",
      "GD32C , 0.14 , 0.14\n",
      "GD32D , 0.13 , 0.13\n",
      "GD35A , 0.17 , 0.17\n",
      "GD35B , 0.13 , 0.13\n",
      "GD35C , 0.13 , 0.13\n",
      "GD61A , 0.16 , 0.16\n",
      "GD61B , 0.15 , 0.15\n",
      "GD61C , 0.13 , 0.13\n",
      "GD76B , 0.15 , 0.15\n",
      "GD76C , 0.15 , 0.15\n",
      "GD79B , 0.16 , 0.16\n",
      "GD79C , 0.13 , 0.13\n",
      "GD89A , 0.17 , 0.17\n",
      "GD89B , 0.16 , 0.16\n",
      "GD89C , 0.16 , 0.16\n",
      "GD89D , 0.14 , 0.14\n",
      "GD91A , 0.16 , 0.16\n",
      "GD91B , 0.15 , 0.15\n",
      "GD91C , 0.15 , 0.15\n",
      "GD91D , 0.16 , 0.16\n",
      "GD00A , 0.15 , 0.15\n",
      "GD00B , 0.15 , 0.15\n",
      "GD00C , 0.16 , 0.16\n",
      "GD00D , 0.15 , 0.15\n",
      "GD02A , 0.13 , 0.13\n",
      "GD02B , 0.14 , 0.14\n",
      "GD02C , 0.15 , 0.15\n",
      "*** Volumes calculated"
     ]
    }
   ],
   "source": [
    "function calculate_volumes(det)\n",
    "    vol = volume(det)\n",
    "    dl          = DL_collection[det][\"DL\"]\n",
    "    dl_ucorrPos = DL_collection[det][\"ucorrPos\"]\n",
    "    dl_ucorrNeg = DL_collection[det][\"ucorrNeg\"]\n",
    "    dl_corrPos  = DL_collection[det][\"corrPos\"]\n",
    "    dl_corrNeg  = DL_collection[det][\"corrNeg\"]\n",
    "    dl_errPos   = dl_ucorrPos + dl_corrPos\n",
    "    dl_errNeg   = dl_ucorrNeg + dl_corrNeg\n",
    "    dl_g        = dl + dl_growth(det)*0.1\n",
    "    dl_g_err    = dl_growth(det)*0.05\n",
    "    # add dl growth to correlated uncertainty\n",
    "    dl_corrPos_g = sqrt(dl_corrPos*dl_corrPos + dl_g_err*dl_g_err)\n",
    "    dl_corrNeg_g = sqrt(dl_corrNeg*dl_corrNeg + dl_g_err*dl_g_err)\n",
    "    dl_ucorrPos_g = sqrt(dl_ucorrPos*dl_ucorrPos + dl_g_err*dl_g_err)\n",
    "    dl_ucorrNeg_g = sqrt(dl_ucorrNeg*dl_ucorrNeg + dl_g_err*dl_g_err)\n",
    "    dl_totPos_g = sqrt(dl_corrPos_g*dl_corrPos_g + dl_ucorrPos*dl_ucorrPos)\n",
    "    dl_totNeg_g = sqrt(dl_corrNeg_g*dl_corrNeg_g + dl_ucorrNeg*dl_ucorrNeg)\n",
    "    \n",
    "    #printfmt(\"{1:s} & \\\\mep{{{2:.2f}}}{{{3:.2f}}}{{{4:.2f}}}{{{5:.2f}}}{{{6:.2f}}}\\n\",\n",
    "    #    det, dl_g, dl_corrPos_g, dl_ucorrPos, dl_corrNeg_g, dl_ucorrNeg)\n",
    "    #printfmt(\"{1:s} , {2:.2f} , {2:.2f}\\n\", det, dl_totPos_g, dl_totNeg_g)\n",
    "    \n",
    "    # calculate volumes without growth\n",
    "    av           =      active_volume(det,dl)\n",
    "    av_errPos    =      active_volume(det,dl-dl_errNeg) - av   # smaller DL bigger AV\n",
    "    av_errNeg    = av - active_volume(det,dl+dl_errPos)        # bigger DL smaller AV\n",
    "    av_uncorrPos =      active_volume(det,dl-dl_ucorrNeg) - av # smaller DL bigger AV\n",
    "    av_uncorrNeg = av - active_volume(det,dl+dl_ucorrPos)      # bigger DL smaller AV\n",
    "    av_corrPos   = av_errPos - av_uncorrPos\n",
    "    av_corrNeg   = av_errNeg - av_uncorrNeg\n",
    "    \n",
    "    # calculate volumes with growth added\n",
    "    av_g           =        active_volume(det, dl_g)\n",
    "    av_g_errPos    =        active_volume(det, dl_g-dl_corrNeg_g-dl_ucorrNeg) - av_g\n",
    "    av_g_errNeg    = av_g - active_volume(det, dl_g+dl_corrPos_g+dl_ucorrPos)\n",
    "    av_g_uncorrPos =        active_volume(det, dl_g-dl_ucorrNeg) - av_g\n",
    "    av_g_uncorrNeg = av_g - active_volume(det, dl_g+dl_ucorrPos)\n",
    "    av_g_corrPos   = av_g_errPos - av_g_uncorrPos\n",
    "    av_g_corrNeg   = av_g_errNeg - av_g_uncorrNeg\n",
    "    \n",
    "    # calculate asymmetric uncertainties\n",
    "    # using dl as central value + 0.1mm/yr correlated positive uncertainty\n",
    "    dl_asymm_corrPos = sqrt(dl_corrPos*dl_corrPos + dl_growth(det)*0.1*dl_growth(det)*0.1)\n",
    "    av_asymm_errNeg  = av - active_volume(det, dl+dl_asymm_corrPos+dl_ucorrPos)\n",
    "    av_asymm_corrNeg = av_asymm_errNeg - av_uncorrNeg\n",
    "    \n",
    "    return Dict(\"volume\"          => vol,\n",
    "                \"active-volume\"   => av,\n",
    "                \"fAV\"             => av / vol,\n",
    "                \"fAV-uncorrPos\"   => av_uncorrPos / vol, \n",
    "                \"fAV-uncorrNeg\"   => av_uncorrNeg / vol, \n",
    "                \"fAV-corrPos\"     => av_corrPos / vol, \n",
    "                \"fAV-corrNeg\"     => av_corrNeg / vol, \n",
    "                \"fAV-errPos\"      => av_errPos / vol,\n",
    "                \"fAV-errNeg\"      => av_errNeg / vol,\n",
    "        \n",
    "                \"g-active-volume\" => av_g,\n",
    "                \"g-fAV\"           => av_g / vol,\n",
    "                \"g-fAV-uncorrPos\" => av_g_uncorrPos / vol, \n",
    "                \"g-fAV-uncorrNeg\" => av_g_uncorrNeg / vol, \n",
    "                \"g-fAV-corrPos\"   => av_g_corrPos / vol, \n",
    "                \"g-fAV-corrNeg\"   => av_g_corrNeg / vol, \n",
    "                \"g-fAV-errPos\"    => av_g_errPos / vol,\n",
    "                \"g-fAV-errNeg\"    => av_g_errNeg / vol,\n",
    "    \n",
    "                \"a-fAV-corrNeg\"   => av_asymm_corrNeg / vol,\n",
    "                \"a-fAV-errNeg\"    => av_asymm_errNeg / vol\n",
    "               )\n",
    "end\n",
    "\n",
    "Vc = Dict(d => calculate_volumes(d) for d ∈ detectors)\n",
    "\n",
    "print(\"*** Volumes calculated\")"
   ]
  },
  {
   "cell_type": "markdown",
   "metadata": {},
   "source": [
    "## Active volume fraction at the time of measurement"
   ]
  },
  {
   "cell_type": "code",
   "execution_count": 8,
   "metadata": {},
   "outputs": [
    {
     "name": "stdout",
     "output_type": "stream",
     "text": [
      "GD32A 0.923 +0.008-0.004(corr) +0.003-0.003(uncorr)\n",
      "GD32B 0.910 +0.007-0.003(corr) +0.002-0.002(uncorr)\n",
      "GD32C 0.922 +0.006-0.003(corr) +0.002-0.002(uncorr)\n",
      "GD32D 0.941 +0.007-0.003(corr) +0.004-0.004(uncorr)\n",
      "GD35A 0.933 +0.004-0.003(corr) +0.002-0.002(uncorr)\n",
      "GD35B 0.939 +0.007-0.003(corr) +0.006-0.007(uncorr)\n",
      "GD35C 0.931 +0.007-0.004(corr) +0.003-0.003(uncorr)\n",
      "GD61A 0.920 +0.005-0.004(corr) +0.004-0.006(uncorr)\n",
      "GD61B 0.918 +0.007-0.003(corr) +0.005-0.005(uncorr)\n",
      "GD61C 0.915 +0.008-0.004(corr) +0.005-0.005(uncorr)\n",
      "GD76B 0.884 +0.009-0.004(corr) +0.004-0.005(uncorr)\n",
      "GD76C 0.908 +0.006-0.003(corr) +0.003-0.003(uncorr)\n",
      "GD79B 0.916 +0.007-0.003(corr) +0.004-0.004(uncorr)\n",
      "GD79C 0.906 +0.007-0.003(corr) +0.003-0.003(uncorr)\n",
      "GD89A 0.912 +0.006-0.004(corr) +0.004-0.005(uncorr)\n",
      "GD89B 0.897 +0.007-0.004(corr) +0.003-0.003(uncorr)\n",
      "GD89C 0.912 +0.009-0.004(corr) +0.004-0.004(uncorr)\n",
      "GD89D 0.897 +0.009-0.004(corr) +0.003-0.004(uncorr)\n",
      "GD91A 0.917 +0.006-0.003(corr) +0.004-0.005(uncorr)\n",
      "GD91B 0.922 +0.007-0.003(corr) +0.004-0.004(uncorr)\n",
      "GD91C 0.920 +0.007-0.003(corr) +0.005-0.005(uncorr)\n",
      "GD91D 0.923 +0.007-0.003(corr) +0.005-0.005(uncorr)\n",
      "GD00A 0.910 +0.007-0.004(corr) +0.004-0.006(uncorr)\n",
      "GD00B 0.912 +0.007-0.003(corr) +0.005-0.005(uncorr)\n",
      "GD00C 0.925 +0.006-0.003(corr) +0.002-0.002(uncorr)\n",
      "GD00D 0.919 +0.006-0.003(corr) +0.002-0.002(uncorr)\n",
      "GD02A 0.919 +0.006-0.004(corr) +0.004-0.004(uncorr)\n",
      "GD02B 0.916 +0.007-0.003(corr) +0.005-0.005(uncorr)\n",
      "GD02C 0.918 +0.006-0.003(corr) +0.004-0.004(uncorr)\n"
     ]
    }
   ],
   "source": [
    "for d ∈ detectors\n",
    "    printfmt(\"{1:s} {2:.3f}\",d,Vc[d][\"fAV\"])\n",
    "    printfmt(\" +{1:.3f}-{2:.3f}(corr)\",    Vc[d][\"fAV-corrPos\"],   Vc[d][\"fAV-corrNeg\"])\n",
    "    printfmt(\" +{1:.3f}-{2:.3f}(uncorr)\\n\",Vc[d][\"fAV-uncorrPos\"], Vc[d][\"fAV-uncorrNeg\"])\n",
    "end"
   ]
  },
  {
   "cell_type": "markdown",
   "metadata": {},
   "source": [
    "## Active volume fration with growth added"
   ]
  },
  {
   "cell_type": "code",
   "execution_count": 9,
   "metadata": {},
   "outputs": [
    {
     "name": "stdout",
     "output_type": "stream",
     "text": [
      "GD32A 0.880 +0.023-0.022(corr) +0.003-0.003(uncorr)\n",
      "GD32B 0.883 +0.015-0.014(corr) +0.002-0.002(uncorr)\n",
      "GD32C 0.894 +0.015-0.014(corr) +0.002-0.002(uncorr)\n",
      "GD32D 0.914 +0.015-0.014(corr) +0.003-0.003(uncorr)\n",
      "GD35A 0.897 +0.018-0.018(corr) +0.001-0.001(uncorr)\n",
      "GD35B 0.915 +0.014-0.013(corr) +0.005-0.006(uncorr)\n",
      "GD35C 0.902 +0.016-0.015(corr) +0.003-0.003(uncorr)\n",
      "GD61A 0.889 +0.016-0.016(corr) +0.004-0.005(uncorr)\n",
      "GD61B 0.888 +0.017-0.015(corr) +0.004-0.004(uncorr)\n",
      "GD61C 0.887 +0.017-0.014(corr) +0.005-0.005(uncorr)\n",
      "GD76B 0.848 +0.020-0.018(corr) +0.004-0.005(uncorr)\n",
      "GD76C 0.878 +0.016-0.015(corr) +0.003-0.003(uncorr)\n",
      "GD79B 0.882 +0.018-0.017(corr) +0.003-0.003(uncorr)\n",
      "GD79C 0.879 +0.015-0.014(corr) +0.003-0.003(uncorr)\n",
      "GD89A 0.872 +0.021-0.020(corr) +0.004-0.005(uncorr)\n",
      "GD89B 0.860 +0.020-0.019(corr) +0.003-0.003(uncorr)\n",
      "GD89C 0.875 +0.020-0.018(corr) +0.004-0.004(uncorr)\n",
      "GD89D 0.863 +0.020-0.017(corr) +0.003-0.004(uncorr)\n",
      "GD91A 0.883 +0.018-0.017(corr) +0.004-0.005(uncorr)\n",
      "GD91B 0.890 +0.017-0.016(corr) +0.004-0.004(uncorr)\n",
      "GD91C 0.888 +0.017-0.016(corr) +0.005-0.005(uncorr)\n",
      "GD91D 0.889 +0.018-0.017(corr) +0.004-0.004(uncorr)\n",
      "GD00A 0.872 +0.020-0.019(corr) +0.004-0.006(uncorr)\n",
      "GD00B 0.881 +0.017-0.016(corr) +0.005-0.005(uncorr)\n",
      "GD00C 0.892 +0.017-0.016(corr) +0.002-0.002(uncorr)\n",
      "GD00D 0.889 +0.016-0.015(corr) +0.002-0.002(uncorr)\n",
      "GD02A 0.889 +0.016-0.015(corr) +0.004-0.004(uncorr)\n",
      "GD02B 0.885 +0.017-0.016(corr) +0.005-0.005(uncorr)\n",
      "GD02C 0.888 +0.016-0.015(corr) +0.004-0.004(uncorr)\n"
     ]
    }
   ],
   "source": [
    "for d ∈ detectors\n",
    "    printfmt(\"{1:s} {2:.3f}\",d,Vc[d][\"g-fAV\"])\n",
    "    printfmt(\" +{1:.3f}-{2:.3f}(corr)\",    Vc[d][\"g-fAV-corrPos\"],   Vc[d][\"g-fAV-corrNeg\"])\n",
    "    printfmt(\" +{1:.3f}-{2:.3f}(uncorr)\\n\",Vc[d][\"g-fAV-uncorrPos\"], Vc[d][\"g-fAV-uncorrNeg\"])\n",
    "end"
   ]
  },
  {
   "cell_type": "markdown",
   "metadata": {},
   "source": [
    "## Active volume fraction as measured with growth added as asymmetric uncertainty"
   ]
  },
  {
   "cell_type": "code",
   "execution_count": 10,
   "metadata": {},
   "outputs": [
    {
     "name": "stdout",
     "output_type": "stream",
     "text": [
      "GD32A 0.923 +0.008-0.044(corr) +0.003-0.003(uncorr)\n",
      "GD32B 0.910 +0.007-0.027(corr) +0.002-0.002(uncorr)\n",
      "GD32C 0.922 +0.006-0.028(corr) +0.002-0.002(uncorr)\n",
      "GD32D 0.941 +0.007-0.028(corr) +0.004-0.004(uncorr)\n",
      "GD35A 0.933 +0.004-0.036(corr) +0.002-0.002(uncorr)\n",
      "GD35B 0.939 +0.007-0.025(corr) +0.006-0.007(uncorr)\n",
      "GD35C 0.931 +0.007-0.029(corr) +0.003-0.003(uncorr)\n",
      "GD61A 0.920 +0.005-0.031(corr) +0.004-0.006(uncorr)\n",
      "GD61B 0.918 +0.007-0.031(corr) +0.005-0.005(uncorr)\n",
      "GD61C 0.915 +0.008-0.029(corr) +0.005-0.005(uncorr)\n",
      "GD76B 0.884 +0.009-0.036(corr) +0.004-0.005(uncorr)\n",
      "GD76C 0.908 +0.006-0.030(corr) +0.003-0.003(uncorr)\n",
      "GD79B 0.916 +0.007-0.035(corr) +0.004-0.004(uncorr)\n",
      "GD79C 0.906 +0.007-0.027(corr) +0.003-0.003(uncorr)\n",
      "GD89A 0.912 +0.006-0.040(corr) +0.004-0.005(uncorr)\n",
      "GD89B 0.897 +0.007-0.038(corr) +0.003-0.003(uncorr)\n",
      "GD89C 0.912 +0.009-0.037(corr) +0.004-0.004(uncorr)\n",
      "GD89D 0.897 +0.009-0.035(corr) +0.003-0.004(uncorr)\n",
      "GD91A 0.917 +0.006-0.034(corr) +0.004-0.005(uncorr)\n",
      "GD91B 0.922 +0.007-0.032(corr) +0.004-0.004(uncorr)\n",
      "GD91C 0.920 +0.007-0.032(corr) +0.005-0.005(uncorr)\n",
      "GD91D 0.923 +0.007-0.034(corr) +0.005-0.005(uncorr)\n",
      "GD00A 0.910 +0.007-0.038(corr) +0.004-0.006(uncorr)\n",
      "GD00B 0.912 +0.007-0.031(corr) +0.005-0.005(uncorr)\n",
      "GD00C 0.925 +0.006-0.032(corr) +0.002-0.002(uncorr)\n",
      "GD00D 0.919 +0.006-0.031(corr) +0.002-0.002(uncorr)\n",
      "GD02A 0.919 +0.006-0.030(corr) +0.004-0.004(uncorr)\n",
      "GD02B 0.916 +0.007-0.031(corr) +0.005-0.005(uncorr)\n",
      "GD02C 0.918 +0.006-0.030(corr) +0.004-0.004(uncorr)\n"
     ]
    }
   ],
   "source": [
    "for d ∈ detectors\n",
    "    printfmt(\"{1:s} {2:.3f}\",d,Vc[d][\"fAV\"])\n",
    "    printfmt(\" +{1:.3f}-{2:.3f}(corr)\",    Vc[d][\"fAV-corrPos\"],   Vc[d][\"a-fAV-corrNeg\"])\n",
    "    printfmt(\" +{1:.3f}-{2:.3f}(uncorr)\\n\",Vc[d][\"fAV-uncorrPos\"], Vc[d][\"fAV-uncorrNeg\"])\n",
    "end"
   ]
  },
  {
   "cell_type": "code",
   "execution_count": null,
   "metadata": {},
   "outputs": [],
   "source": []
  }
 ],
 "metadata": {
  "kernelspec": {
   "display_name": "Julia 1.4.2",
   "language": "julia",
   "name": "julia-1.4"
  },
  "language_info": {
   "file_extension": ".jl",
   "mimetype": "application/julia",
   "name": "julia",
   "version": "1.4.2"
  }
 },
 "nbformat": 4,
 "nbformat_minor": 2
}
